{
 "cells": [
  {
   "cell_type": "code",
   "execution_count": 44,
   "id": "c2303225",
   "metadata": {
    "scrolled": true
   },
   "outputs": [],
   "source": [
    "import pandas as pd\n",
    "import numpy as np\n",
    "import seaborn as sns\n",
    "import matplotlib.pyplot as plt\n",
    "#for interactivity\n",
    "from ipywidgets import interact\n"
   ]
  },
  {
   "cell_type": "code",
   "execution_count": 45,
   "id": "c4890cfd",
   "metadata": {},
   "outputs": [],
   "source": [
    "data =pd.read_csv(\"C:\\Project/Crop_recommendation (1).csv\")\n"
   ]
  },
  {
   "cell_type": "code",
   "execution_count": 46,
   "id": "b27a8428",
   "metadata": {},
   "outputs": [
    {
     "name": "stdout",
     "output_type": "stream",
     "text": [
      "shape of dataset: (2200, 8)\n"
     ]
    }
   ],
   "source": [
    "print(\"shape of dataset:\",data.shape)"
   ]
  },
  {
   "cell_type": "code",
   "execution_count": 12,
   "id": "49bdd90c",
   "metadata": {},
   "outputs": [
    {
     "data": {
      "text/html": [
       "<div>\n",
       "<style scoped>\n",
       "    .dataframe tbody tr th:only-of-type {\n",
       "        vertical-align: middle;\n",
       "    }\n",
       "\n",
       "    .dataframe tbody tr th {\n",
       "        vertical-align: top;\n",
       "    }\n",
       "\n",
       "    .dataframe thead th {\n",
       "        text-align: right;\n",
       "    }\n",
       "</style>\n",
       "<table border=\"1\" class=\"dataframe\">\n",
       "  <thead>\n",
       "    <tr style=\"text-align: right;\">\n",
       "      <th></th>\n",
       "      <th>N</th>\n",
       "      <th>P</th>\n",
       "      <th>K</th>\n",
       "      <th>temperature</th>\n",
       "      <th>humidity</th>\n",
       "      <th>ph</th>\n",
       "      <th>rainfall</th>\n",
       "      <th>label</th>\n",
       "    </tr>\n",
       "  </thead>\n",
       "  <tbody>\n",
       "    <tr>\n",
       "      <th>0</th>\n",
       "      <td>90</td>\n",
       "      <td>42</td>\n",
       "      <td>43</td>\n",
       "      <td>20.879744</td>\n",
       "      <td>82.002744</td>\n",
       "      <td>6.502985</td>\n",
       "      <td>202.935536</td>\n",
       "      <td>rice</td>\n",
       "    </tr>\n",
       "    <tr>\n",
       "      <th>1</th>\n",
       "      <td>85</td>\n",
       "      <td>58</td>\n",
       "      <td>41</td>\n",
       "      <td>21.770462</td>\n",
       "      <td>80.319644</td>\n",
       "      <td>7.038096</td>\n",
       "      <td>226.655537</td>\n",
       "      <td>rice</td>\n",
       "    </tr>\n",
       "    <tr>\n",
       "      <th>2</th>\n",
       "      <td>60</td>\n",
       "      <td>55</td>\n",
       "      <td>44</td>\n",
       "      <td>23.004459</td>\n",
       "      <td>82.320763</td>\n",
       "      <td>7.840207</td>\n",
       "      <td>263.964248</td>\n",
       "      <td>rice</td>\n",
       "    </tr>\n",
       "    <tr>\n",
       "      <th>3</th>\n",
       "      <td>74</td>\n",
       "      <td>35</td>\n",
       "      <td>40</td>\n",
       "      <td>26.491096</td>\n",
       "      <td>80.158363</td>\n",
       "      <td>6.980401</td>\n",
       "      <td>242.864034</td>\n",
       "      <td>rice</td>\n",
       "    </tr>\n",
       "    <tr>\n",
       "      <th>4</th>\n",
       "      <td>78</td>\n",
       "      <td>42</td>\n",
       "      <td>42</td>\n",
       "      <td>20.130175</td>\n",
       "      <td>81.604873</td>\n",
       "      <td>7.628473</td>\n",
       "      <td>262.717340</td>\n",
       "      <td>rice</td>\n",
       "    </tr>\n",
       "  </tbody>\n",
       "</table>\n",
       "</div>"
      ],
      "text/plain": [
       "    N   P   K  temperature   humidity        ph    rainfall label\n",
       "0  90  42  43    20.879744  82.002744  6.502985  202.935536  rice\n",
       "1  85  58  41    21.770462  80.319644  7.038096  226.655537  rice\n",
       "2  60  55  44    23.004459  82.320763  7.840207  263.964248  rice\n",
       "3  74  35  40    26.491096  80.158363  6.980401  242.864034  rice\n",
       "4  78  42  42    20.130175  81.604873  7.628473  262.717340  rice"
      ]
     },
     "execution_count": 12,
     "metadata": {},
     "output_type": "execute_result"
    }
   ],
   "source": [
    "data.head()"
   ]
  },
  {
   "cell_type": "code",
   "execution_count": 13,
   "id": "7535ad58",
   "metadata": {},
   "outputs": [
    {
     "data": {
      "text/plain": [
       "N              0\n",
       "P              0\n",
       "K              0\n",
       "temperature    0\n",
       "humidity       0\n",
       "ph             0\n",
       "rainfall       0\n",
       "label          0\n",
       "dtype: int64"
      ]
     },
     "execution_count": 13,
     "metadata": {},
     "output_type": "execute_result"
    }
   ],
   "source": [
    "#to find misising values\n",
    "data.isnull().sum()"
   ]
  },
  {
   "cell_type": "code",
   "execution_count": 14,
   "id": "8e239fa8",
   "metadata": {},
   "outputs": [],
   "source": [
    "#FILL-NA func is used to replace these missing values with statistical values such as mean ,median,mode\n",
    " #NA- means not available\n",
    "#pandas have func like fill-na ,drop-na to treat missing values"
   ]
  },
  {
   "cell_type": "code",
   "execution_count": 15,
   "id": "3a9888a8",
   "metadata": {},
   "outputs": [
    {
     "data": {
      "text/plain": [
       "label\n",
       "rice           100\n",
       "maize          100\n",
       "jute           100\n",
       "cotton         100\n",
       "coconut        100\n",
       "papaya         100\n",
       "orange         100\n",
       "apple          100\n",
       "muskmelon      100\n",
       "watermelon     100\n",
       "grapes         100\n",
       "mango          100\n",
       "banana         100\n",
       "pomegranate    100\n",
       "lentil         100\n",
       "blackgram      100\n",
       "mungbean       100\n",
       "mothbeans      100\n",
       "pigeonpeas     100\n",
       "kidneybeans    100\n",
       "chickpea       100\n",
       "coffee         100\n",
       "Name: count, dtype: int64"
      ]
     },
     "execution_count": 15,
     "metadata": {},
     "output_type": "execute_result"
    }
   ],
   "source": [
    "#to check which crops\n",
    "data['label'].value_counts()"
   ]
  },
  {
   "cell_type": "code",
   "execution_count": 16,
   "id": "9230cf6b",
   "metadata": {},
   "outputs": [
    {
     "name": "stdout",
     "output_type": "stream",
     "text": [
      "average ratio of nitrogen in soil: 50.55\n",
      "average ratio of phosphrous in soil :  53.36\n",
      "average ratio of Potassium in soil :  48.15\n",
      "average  temperature in Celius :  25.62\n",
      "average relative humidity in soil :  71.48\n",
      "average ratio of ph value of soil :  6.47\n",
      "average raninfall in mm :  103.46\n"
     ]
    }
   ],
   "source": [
    "#to check summary for all crops\n",
    "\n",
    "print(\"average ratio of nitrogen in soil: {0:.2f}\".format(data['N'].mean()))\n",
    "print(\"average ratio of phosphrous in soil : {0: .2f}\".format(data['P'].mean()))\n",
    "print(\"average ratio of Potassium in soil : {0: .2f}\".format(data['K'].mean()))\n",
    "print(\"average  temperature in Celius : {0: .2f}\".format(data['temperature'].mean()))\n",
    "print(\"average relative humidity in soil : {0: .2f}\".format(data['humidity'].mean()))\n",
    "print(\"average ratio of ph value of soil : {0: .2f}\".format(data['ph'].mean()))\n",
    "print(\"average raninfall in mm : {0: .2f}\".format(data['rainfall'].mean()))"
   ]
  },
  {
   "cell_type": "code",
   "execution_count": 18,
   "id": "bf570272",
   "metadata": {},
   "outputs": [
    {
     "data": {
      "application/vnd.jupyter.widget-view+json": {
       "model_id": "8e14c2511c424b36a51f743a69abc9cc",
       "version_major": 2,
       "version_minor": 0
      },
      "text/plain": [
       "interactive(children=(Dropdown(description='crops', options=('rice', 'maize', 'jute', 'cotton', 'coconut', 'pa…"
      ]
     },
     "metadata": {},
     "output_type": "display_data"
    }
   ],
   "source": [
    "# lets check summary statistics for each  of crops\n",
    "@interact\n",
    "def summary(crops=list(data['label'].value_counts().index)):\n",
    "    x=data[data['label']==crops]\n",
    "    print(\"-----------------------------------\")\n",
    "    print(\"Statistics for Nitrogen\")\n",
    "    print(\"Mininmum nitrogen required\",x['N'].min())\n",
    "    print(\"Maximum Nitrogen required\",x['N'].max())\n",
    "    print(\"Average Nitrogen required\",x['N'].mean())\n",
    "    \n",
    "    print(\"-----------------------------------\")\n",
    "    print(\"Statistics for Phosphorous\")\n",
    "    print(\"Mininmum Phosphorous required\",x['P'].min())\n",
    "    print(\"Maximum Phosphorous required\",x['P'].max())\n",
    "    print(\"Average Phosphorous required\",x['P'].mean())\n",
    "    \n",
    "    print(\"-----------------------------------\")\n",
    "    print(\"Statistics for Potassium\")\n",
    "    print(\"Mininmum Potassium required\",x['K'].min())\n",
    "    print(\"Maximum Potassium required\",x['K'].max())\n",
    "    print(\"Average Potassium required\",x['K'].mean())\n",
    "    \n",
    "    print(\"-----------------------------------\")\n",
    "    print(\"Statistics for tepmparature\")\n",
    "    print(\"Mininmum  tepmparature required\",x['temperature'].min())\n",
    "    print(\"Maximum temperature required\",x['temperature'].max())\n",
    "    print(\"Average temperature required\",x['temperature'].mean())\n",
    "    \n",
    "    print(\"-----------------------------------\")\n",
    "    print(\"Statistics for PH\")\n",
    "    print(\"Mininmum PH required\",x['ph'].min())\n",
    "    print(\"Maximum PH required\",x['ph'].max())\n",
    "    print(\"Average PH required\",x['ph'].mean())\n",
    "    \n",
    "    print(\"-----------------------------------\")\n",
    "    print(\"Statistics for Rainfall\")\n",
    "    print(\"Mininmum Rainfall required\",x['rainfall'].min())\n",
    "    print(\"Maximum Rainfall required\",x['rainfall'].max())\n",
    "    print(\"Average Rainfall required\",x['rainfall'].mean())"
   ]
  },
  {
   "cell_type": "code",
   "execution_count": 21,
   "id": "b1c4c12d",
   "metadata": {},
   "outputs": [
    {
     "data": {
      "application/vnd.jupyter.widget-view+json": {
       "model_id": "991e40adab5340db85461db82f29e7d3",
       "version_major": 2,
       "version_minor": 0
      },
      "text/plain": [
       "interactive(children=(Dropdown(description='conditions', options=('N', 'P', 'K', 'temperature', 'ph', 'humidit…"
      ]
     },
     "metadata": {},
     "output_type": "display_data"
    }
   ],
   "source": [
    "##LETS compare the avg requirement for each crops with avg cond\n",
    "\n",
    "@interact\n",
    "def comapre(conditions=['N','P','K','temperature','ph','humidity','rainfall']):\n",
    "    print(\"avg value for\", conditions ,\"is {0:2f}\".format(data[conditions].mean()))\n",
    "    print(\"--------------------------------------------------------------------\")\n",
    "    \n",
    "    print(\"rice: {0:2f}\".format(data[(data['label']=='rice')][conditions].mean()))\n",
    "    print(\"Banana: {0:2f}\".format(data[(data['label']=='banana')][conditions].mean()))\n",
    "    print(\"Black Grams: {0:2f}\".format(data[(data['label']=='blackgram')][conditions].mean()))\n",
    "    print(\"Jute: {0:2f}\".format(data[(data['label']=='Jute')][conditions].mean()))\n",
    "    print(\"Coconut: {0:2f}\".format(data[(data['label']=='Coconut')][conditions].mean()))\n",
    "    print(\"Apple: {0:2f}\".format(data[(data['label']=='apple')][conditions].mean()))\n",
    "    print(\"Papaya: {0:2f}\".format(data[(data['label']=='papaya')][conditions].mean()))\n",
    "    print(\"Muskmelon: {0:2f}\".format(data[(data['label']=='muskmelon')][conditions].mean()))\n",
    "    print(\"Grapes: {0:2f}\".format(data[(data['label']=='grapes')][conditions].mean()))\n",
    "    print(\"Watermelon: {0:2f}\".format(data[(data['label']=='Watermelon')][conditions].mean()))\n",
    "    print(\"Kidney Beans: {0:2f}\".format(data[(data['label']=='kidneybeans')][conditions].mean()))\n",
    "    print(\"Mung Beans: {0:2f}\".format(data[(data['label']=='mungbeans')][conditions].mean()))\n",
    "    print(\"Oranges: {0:2f}\".format(data[(data['label']=='oranges')][conditions].mean()))\n",
    "    print(\"Chick Peas: {0:2f}\".format(data[(data['label']=='chickpeas')][conditions].mean()))\n",
    "    print(\"Lentils: {0:2f}\".format(data[(data['label']=='Lentils')][conditions].mean()))\n",
    "    print(\"Cotton: {0:2f}\".format(data[(data['label']=='cotton')][conditions].mean()))\n",
    "    print(\"Mango: {0:2f}\".format(data[(data['label']=='mango')][conditions].mean()))\n",
    "    print(\"pomeogrante: {0:2f}\".format(data[(data['label']=='pomeogrante')][conditions].mean()))\n",
    "    print(\"Maize {0:2f}\".format(data[(data['label']=='maize')][conditions].mean()))\n",
    "    print(\"Moth Beans: {0:2f}\".format(data[(data['label']=='Mothbeans')][conditions].mean()))\n",
    "    print(\"Pigeon beans: {0:2f}\".format(data[(data['label']=='pigeonbeans')][conditions].mean()))\n",
    "    \n",
    "    "
   ]
  },
  {
   "cell_type": "code",
   "execution_count": 23,
   "id": "db5ce8de",
   "metadata": {},
   "outputs": [
    {
     "data": {
      "application/vnd.jupyter.widget-view+json": {
       "model_id": "7457f8e077f34519bf9ef6e2b4e3769f",
       "version_major": 2,
       "version_minor": 0
      },
      "text/plain": [
       "interactive(children=(Dropdown(description='conditions', options=('N', 'P', 'K', 'temperature', 'ph', 'humidit…"
      ]
     },
     "metadata": {},
     "output_type": "display_data"
    }
   ],
   "source": [
    "#LET SOLVE THIS FUNCTION MORE INTUTIVE\n",
    "\n",
    "@interact\n",
    "def compare(conditions =['N','P','K','temperature','ph','humidity', 'rainfall']):\n",
    "    print(\"crops which reauire greater than avg\",conditions,\"\\n\")\n",
    "    print(data[data[conditions]>data[conditions].mean()]['label'].unique());\n",
    "    print(\"------------------------------------------------\")\n",
    "    print(\"crops which reauire less than avg\",conditions,\"\\n\")\n",
    "    print(data[data[conditions]<=data[conditions].mean()]['label'].unique());\n",
    "    "
   ]
  },
  {
   "cell_type": "code",
   "execution_count": 24,
   "id": "a3759376",
   "metadata": {},
   "outputs": [
    {
     "name": "stdout",
     "output_type": "stream",
     "text": [
      "some interseting facts\n",
      "---------------------------------------------\n",
      "crop require very high ratio of nitrogen content in soil ['cotton']\n",
      "crop require very high ratio of phosphrous content in soil ['grapes' 'apple']\n",
      "crop require very high ratio of potassium content in soil ['grapes' 'apple']\n",
      "crop require very high ratio of High rainfall ['rice' 'papaya' 'coconut']\n",
      "crop require very high ratio of require very low temperature ['grapes']\n",
      "crop require very high ratio of very high temerature ['rice' 'maize' 'chickpea' 'blackgram' 'banana' 'watermelon' 'muskmelon'\n",
      " 'papaya' 'cotton' 'jute' 'coffee']\n",
      "crop require very high ratio of very low humidity ['chickpea' 'kidneybeans']\n",
      "crop require very high ratio of very low ph ['mothbeans']\n",
      "crop require very high ratio of very high ph ['mothbeans']\n"
     ]
    }
   ],
   "source": [
    "#lets find out some interesting facts\n",
    "print(\"some interseting facts\")\n",
    "print(\"---------------------------------------------\")\n",
    "print(\"crop require very high ratio of nitrogen content in soil\",data[data['N']>120]['label'].unique())\n",
    "print(\"crop require very high ratio of phosphrous content in soil\",data[data['P']>100]['label'].unique())\n",
    "print(\"crop require very high ratio of potassium content in soil\",data[data['K'] >200]['label'].unique())\n",
    "print(\"crop require very high ratio of High rainfall\",data[data['rainfall']>200]['label'].unique())\n",
    "print(\"crop require very high ratio of require very low temperature\",data[data['temperature']<10]['label'].unique())\n",
    "print(\"crop require very high ratio of very high temerature\",data[data['N']>48]['label'].unique())\n",
    "print(\"crop require very high ratio of very low humidity\",data[data['humidity']<20]['label'].unique())\n",
    "print(\"crop require very high ratio of very low ph\",data[data['ph']<4]['label'].unique())\n",
    "print(\"crop require very high ratio of very high ph\",data[data['ph']>9]['label'].unique())"
   ]
  },
  {
   "cell_type": "code",
   "execution_count": 27,
   "id": "0cb141d5",
   "metadata": {},
   "outputs": [
    {
     "name": "stdout",
     "output_type": "stream",
     "text": [
      "summer crops\n",
      "['pigeonpeas' 'mothbeans' 'blackgram' 'mango' 'grapes' 'orange' 'papaya']\n",
      "------------------------------------------\n",
      "winter crops\n",
      "['maize' 'pigeonpeas' 'lentil' 'pomegranate' 'grapes' 'orange']\n",
      "------------------------------------------\n",
      "rainy crops\n",
      "['rice' 'papaya' 'coconut']\n"
     ]
    }
   ],
   "source": [
    "#To understand which crops can only be grown in summmer winter and rainy season\n",
    "\n",
    "print(\"summer crops\")\n",
    "print(data[(data['temperature']>30) &(data['humidity']>50)]['label'].unique())\n",
    "print(\"------------------------------------------\")\n",
    "print(\"winter crops\")\n",
    "print(data[(data['temperature']<20) &(data['humidity']>30)]['label'].unique())\n",
    "print(\"------------------------------------------\")\n",
    "print(\"rainy crops\")\n",
    "print(data[(data['rainfall']>200) &(data['humidity']>30)]['label'].unique())\n",
    "\n"
   ]
  },
  {
   "cell_type": "code",
   "execution_count": 29,
   "id": "fd0c8f27",
   "metadata": {},
   "outputs": [
    {
     "name": "stdout",
     "output_type": "stream",
     "text": [
      "(2200, 7)\n"
     ]
    }
   ],
   "source": [
    "from sklearn.cluster import KMeans\n",
    "\n",
    "#remve the label column\n",
    "x=data.drop(['label'],axis=1)\n",
    "\n",
    "#select all values of the drop\n",
    "x=x.values\n",
    "\n",
    "#checking the shape\n",
    "print(x.shape)"
   ]
  },
  {
   "cell_type": "code",
   "execution_count": null,
   "id": "af1ebf6f",
   "metadata": {},
   "outputs": [],
   "source": []
  },
  {
   "cell_type": "code",
   "execution_count": 49,
   "id": "33563052",
   "metadata": {},
   "outputs": [
    {
     "name": "stdout",
     "output_type": "stream",
     "text": [
      "shape of x (2200, 7)\n",
      "shape of y (2200,)\n"
     ]
    }
   ],
   "source": [
    "#LETS SPLIT THE DATASET FOR PREDICTIVE MODELLUNG\n",
    "\n",
    "y=data['label']\n",
    "x=data.drop(['label'],axis=1)\n",
    "print(\"shape of x\",x.shape)\n",
    "print(\"shape of y\",y.shape)"
   ]
  },
  {
   "cell_type": "code",
   "execution_count": 51,
   "id": "4551941e",
   "metadata": {},
   "outputs": [
    {
     "name": "stdout",
     "output_type": "stream",
     "text": [
      "the shape of x train (1760, 7)\n",
      "the shape of x test (440, 7)\n",
      "the shape of y train (1760,)\n",
      "the shape of x test (440,)\n"
     ]
    }
   ],
   "source": [
    "#lets create training and testing sets for validation of result\n",
    "from sklearn.model_selection import train_test_split\n",
    "\n",
    "x_train,x_test,y_train,y_test = train_test_split(x,y,test_size=0.2,random_state=0)\n",
    "print(\"the shape of x train\",x_train.shape)\n",
    "print(\"the shape of x test\",x_test.shape)\n",
    "print(\"the shape of y train\",y_train.shape)\n",
    "print(\"the shape of x test\",y_test.shape)"
   ]
  },
  {
   "cell_type": "code",
   "execution_count": 52,
   "id": "677b5f71",
   "metadata": {},
   "outputs": [
    {
     "name": "stderr",
     "output_type": "stream",
     "text": [
      "C:\\ProgramData\\anaconda3\\Lib\\site-packages\\sklearn\\linear_model\\_logistic.py:458: ConvergenceWarning: lbfgs failed to converge (status=1):\n",
      "STOP: TOTAL NO. of ITERATIONS REACHED LIMIT.\n",
      "\n",
      "Increase the number of iterations (max_iter) or scale the data as shown in:\n",
      "    https://scikit-learn.org/stable/modules/preprocessing.html\n",
      "Please also refer to the documentation for alternative solver options:\n",
      "    https://scikit-learn.org/stable/modules/linear_model.html#logistic-regression\n",
      "  n_iter_i = _check_optimize_result(\n"
     ]
    }
   ],
   "source": [
    "#lets create a predictive model\n",
    "\n",
    "from sklearn.linear_model import LogisticRegression\n",
    "model=LogisticRegression()\n",
    "model.fit(x_train,y_train)\n",
    "y_pred = model.predict(x_test)"
   ]
  },
  {
   "cell_type": "code",
   "execution_count": 53,
   "id": "2d44cf95",
   "metadata": {},
   "outputs": [
    {
     "data": {
      "image/png": "[encoded data removed]",
      "text/plain": [
       "<Figure size 1000x1000 with 2 Axes>"
      ]
     },
     "metadata": {},
     "output_type": "display_data"
    }
   ],
   "source": [
    "#lets evaluate the model performance\n",
    "\n",
    "#clasification report se presicijn and recall ke samjh ata hai\n",
    "\n",
    "from sklearn.metrics import confusion_matrix\n",
    "\n",
    "#lets print the confusion matrix first\n",
    "plt.rcParams['figure.figsize']=(10,10)\n",
    "cm=confusion_matrix(y_test,y_pred)\n",
    "sns.heatmap(cm,annot=True,cmap=\"Wistia\")\n",
    "plt.title('confusion matrix for logistic regression',fontsize=15)\n",
    "plt.show()"
   ]
  },
  {
   "cell_type": "code",
   "execution_count": 54,
   "id": "12b4318c",
   "metadata": {},
   "outputs": [
    {
     "ename": "NameError",
     "evalue": "name 'classification_report' is not defined",
     "output_type": "error",
     "traceback": [
      "\u001b[1;31m---------------------------------------------------------------------------\u001b[0m",
      "\u001b[1;31mNameError\u001b[0m                                 Traceback (most recent call last)",
      "Cell \u001b[1;32mIn[54], line 3\u001b[0m\n\u001b[0;32m      1\u001b[0m \u001b[38;5;66;03m#lets print classification report also\u001b[39;00m\n\u001b[1;32m----> 3\u001b[0m cr\u001b[38;5;241m=\u001b[39mclassification_report(y_test,y_pred)\n\u001b[0;32m      4\u001b[0m \u001b[38;5;28mprint\u001b[39m(cr)\n",
      "\u001b[1;31mNameError\u001b[0m: name 'classification_report' is not defined"
     ]
    }
   ],
   "source": [
    "#lets print classification report also\n",
    "\n",
    "cr=classification_report(y_test,y_pred)\n",
    "print(cr)"
   ]
  },
  {
   "cell_type": "code",
   "execution_count": 55,
   "id": "de5c74f4",
   "metadata": {},
   "outputs": [
    {
     "data": {
      "text/html": [
       "<div>\n",
       "<style scoped>\n",
       "    .dataframe tbody tr th:only-of-type {\n",
       "        vertical-align: middle;\n",
       "    }\n",
       "\n",
       "    .dataframe tbody tr th {\n",
       "        vertical-align: top;\n",
       "    }\n",
       "\n",
       "    .dataframe thead th {\n",
       "        text-align: right;\n",
       "    }\n",
       "</style>\n",
       "<table border=\"1\" class=\"dataframe\">\n",
       "  <thead>\n",
       "    <tr style=\"text-align: right;\">\n",
       "      <th></th>\n",
       "      <th>N</th>\n",
       "      <th>P</th>\n",
       "      <th>K</th>\n",
       "      <th>temperature</th>\n",
       "      <th>humidity</th>\n",
       "      <th>ph</th>\n",
       "      <th>rainfall</th>\n",
       "      <th>label</th>\n",
       "    </tr>\n",
       "  </thead>\n",
       "  <tbody>\n",
       "    <tr>\n",
       "      <th>0</th>\n",
       "      <td>90</td>\n",
       "      <td>42</td>\n",
       "      <td>43</td>\n",
       "      <td>20.879744</td>\n",
       "      <td>82.002744</td>\n",
       "      <td>6.502985</td>\n",
       "      <td>202.935536</td>\n",
       "      <td>rice</td>\n",
       "    </tr>\n",
       "    <tr>\n",
       "      <th>1</th>\n",
       "      <td>85</td>\n",
       "      <td>58</td>\n",
       "      <td>41</td>\n",
       "      <td>21.770462</td>\n",
       "      <td>80.319644</td>\n",
       "      <td>7.038096</td>\n",
       "      <td>226.655537</td>\n",
       "      <td>rice</td>\n",
       "    </tr>\n",
       "    <tr>\n",
       "      <th>2</th>\n",
       "      <td>60</td>\n",
       "      <td>55</td>\n",
       "      <td>44</td>\n",
       "      <td>23.004459</td>\n",
       "      <td>82.320763</td>\n",
       "      <td>7.840207</td>\n",
       "      <td>263.964248</td>\n",
       "      <td>rice</td>\n",
       "    </tr>\n",
       "    <tr>\n",
       "      <th>3</th>\n",
       "      <td>74</td>\n",
       "      <td>35</td>\n",
       "      <td>40</td>\n",
       "      <td>26.491096</td>\n",
       "      <td>80.158363</td>\n",
       "      <td>6.980401</td>\n",
       "      <td>242.864034</td>\n",
       "      <td>rice</td>\n",
       "    </tr>\n",
       "    <tr>\n",
       "      <th>4</th>\n",
       "      <td>78</td>\n",
       "      <td>42</td>\n",
       "      <td>42</td>\n",
       "      <td>20.130175</td>\n",
       "      <td>81.604873</td>\n",
       "      <td>7.628473</td>\n",
       "      <td>262.717340</td>\n",
       "      <td>rice</td>\n",
       "    </tr>\n",
       "  </tbody>\n",
       "</table>\n",
       "</div>"
      ],
      "text/plain": [
       "    N   P   K  temperature   humidity        ph    rainfall label\n",
       "0  90  42  43    20.879744  82.002744  6.502985  202.935536  rice\n",
       "1  85  58  41    21.770462  80.319644  7.038096  226.655537  rice\n",
       "2  60  55  44    23.004459  82.320763  7.840207  263.964248  rice\n",
       "3  74  35  40    26.491096  80.158363  6.980401  242.864034  rice\n",
       "4  78  42  42    20.130175  81.604873  7.628473  262.717340  rice"
      ]
     },
     "execution_count": 55,
     "metadata": {},
     "output_type": "execute_result"
    }
   ],
   "source": [
    "data.head()"
   ]
  },
  {
   "cell_type": "code",
   "execution_count": 56,
   "id": "b0836f24",
   "metadata": {},
   "outputs": [
    {
     "name": "stdout",
     "output_type": "stream",
     "text": [
      "the suggested crp of given climatic condition is ['rice']\n"
     ]
    },
    {
     "name": "stderr",
     "output_type": "stream",
     "text": [
      "C:\\ProgramData\\anaconda3\\Lib\\site-packages\\sklearn\\base.py:439: UserWarning: X does not have valid feature names, but LogisticRegression was fitted with feature names\n",
      "  warnings.warn(\n"
     ]
    }
   ],
   "source": [
    "prediction=model.predict((np.array([[90,40,40,20,80,7,200]])))\n",
    "print(\"the suggested crp of given climatic condition is\",prediction)"
   ]
  },
  {
   "cell_type": "code",
   "execution_count": null,
   "id": "75feada1",
   "metadata": {},
   "outputs": [],
   "source": []
  }
 ],
 "metadata": {
  "kernelspec": {
   "display_name": "Python 3 (ipykernel)",
   "language": "python",
   "name": "python3"
  },
  "language_info": {
   "codemirror_mode": {
    "name": "ipython",
    "version": 3
   },
   "file_extension": ".py",
   "mimetype": "text/x-python",
   "name": "python",
   "nbconvert_exporter": "python",
   "pygments_lexer": "ipython3",
   "version": "3.11.3"
  }
 },
 "nbformat": 4,
 "nbformat_minor": 5
}
